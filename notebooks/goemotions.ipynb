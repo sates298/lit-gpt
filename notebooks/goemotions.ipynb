{
 "cells": [
  {
   "cell_type": "code",
   "execution_count": 1,
   "metadata": {},
   "outputs": [
    {
     "name": "stderr",
     "output_type": "stream",
     "text": [
      "/mnt/big_one/swozniak/lit-gpt/venv/lib/python3.10/site-packages/tqdm/auto.py:21: TqdmWarning: IProgress not found. Please update jupyter and ipywidgets. See https://ipywidgets.readthedocs.io/en/stable/user_install.html\n",
      "  from .autonotebook import tqdm as notebook_tqdm\n"
     ]
    }
   ],
   "source": [
    "from datasets import load_dataset\n",
    "import pandas as pd\n",
    "from pathlib import Path\n",
    "from collections import Counter\n",
    "import numpy as np"
   ]
  },
  {
   "cell_type": "code",
   "execution_count": 4,
   "metadata": {},
   "outputs": [],
   "source": [
    "dataset = load_dataset(\"go_emotions\", name=\"raw\")\n",
    "simplified = load_dataset(\"go_emotions\")"
   ]
  },
  {
   "cell_type": "code",
   "execution_count": 5,
   "metadata": {},
   "outputs": [],
   "source": [
    "ids = dataset[\"train\"][\"id\"]\n",
    "user_ids = dataset[\"train\"][\"rater_id\"]"
   ]
  },
  {
   "cell_type": "code",
   "execution_count": 6,
   "metadata": {},
   "outputs": [
    {
     "data": {
      "text/plain": [
       "(82, 58011)"
      ]
     },
     "execution_count": 6,
     "metadata": {},
     "output_type": "execute_result"
    }
   ],
   "source": [
    "len(set(user_ids)), len(set(ids))"
   ]
  },
  {
   "cell_type": "code",
   "execution_count": 7,
   "metadata": {},
   "outputs": [],
   "source": [
    "tr_ids = simplified[\"train\"][\"id\"]\n",
    "val_ids = simplified[\"validation\"][\"id\"]\n",
    "te_ids = simplified[\"test\"][\"id\"]"
   ]
  },
  {
   "cell_type": "code",
   "execution_count": 8,
   "metadata": {},
   "outputs": [
    {
     "data": {
      "text/plain": [
       "(43410, 5426, 5427)"
      ]
     },
     "execution_count": 8,
     "metadata": {},
     "output_type": "execute_result"
    }
   ],
   "source": [
    "len(tr_ids), len(val_ids), len(te_ids)"
   ]
  },
  {
   "cell_type": "code",
   "execution_count": 9,
   "metadata": {},
   "outputs": [],
   "source": [
    "raw_train_ids = [i for i in ids if i in tr_ids]"
   ]
  },
  {
   "cell_type": "code",
   "execution_count": 10,
   "metadata": {},
   "outputs": [
    {
     "data": {
      "text/plain": [
       "(155502, 43410)"
      ]
     },
     "execution_count": 10,
     "metadata": {},
     "output_type": "execute_result"
    }
   ],
   "source": [
    "len(raw_train_ids), len(set(raw_train_ids))"
   ]
  },
  {
   "cell_type": "code",
   "execution_count": 11,
   "metadata": {},
   "outputs": [],
   "source": [
    "df_raw = pd.DataFrame(dataset[\"train\"])\n",
    "df_train_simply = pd.DataFrame(simplified[\"train\"])\n",
    "df_val_simply = pd.DataFrame(simplified[\"validation\"])\n",
    "df_test_simply = pd.DataFrame(simplified[\"test\"])"
   ]
  },
  {
   "cell_type": "code",
   "execution_count": 12,
   "metadata": {},
   "outputs": [
    {
     "data": {
      "text/plain": [
       "Index(['text', 'id', 'author', 'subreddit', 'link_id', 'parent_id',\n",
       "       'created_utc', 'rater_id', 'example_very_unclear', 'admiration',\n",
       "       'amusement', 'anger', 'annoyance', 'approval', 'caring', 'confusion',\n",
       "       'curiosity', 'desire', 'disappointment', 'disapproval', 'disgust',\n",
       "       'embarrassment', 'excitement', 'fear', 'gratitude', 'grief', 'joy',\n",
       "       'love', 'nervousness', 'optimism', 'pride', 'realization', 'relief',\n",
       "       'remorse', 'sadness', 'surprise', 'neutral'],\n",
       "      dtype='object')"
      ]
     },
     "execution_count": 12,
     "metadata": {},
     "output_type": "execute_result"
    }
   ],
   "source": [
    "# df_raw.shape\n",
    "df_raw.columns"
   ]
  },
  {
   "cell_type": "code",
   "execution_count": 4,
   "metadata": {},
   "outputs": [],
   "source": [
    "data_path = Path(\"../data/goemotions/\")\n",
    "raw_path = data_path / \"raw.csv\"\n",
    "train_simple = data_path / \"train_simple.csv\"\n",
    "val_simple = data_path / \"val_simple.csv\"\n",
    "test_simple = data_path / \"test_simple.csv\"\n",
    "\n",
    "train_path_raw = data_path / \"train_raw.csv\"\n",
    "val_path_raw = data_path / \"val_raw.csv\"\n",
    "test_path_raw = data_path / \"test_raw.csv\"\n",
    "\n",
    "train_path = data_path / \"train.csv\"\n",
    "val_path = data_path / \"val.csv\"\n",
    "test_path = data_path / \"test.csv\""
   ]
  },
  {
   "cell_type": "code",
   "execution_count": 5,
   "metadata": {},
   "outputs": [],
   "source": [
    "# df_raw.to_csv(raw_path, index=False)\n",
    "# df_train_simply.to_csv(train_simple, index=False)\n",
    "# df_val_simply.to_csv(val_simple, index=False)\n",
    "# df_test_simply.to_csv(test_simple, index=False)"
   ]
  },
  {
   "cell_type": "code",
   "execution_count": 6,
   "metadata": {},
   "outputs": [],
   "source": [
    "# df_train = df_raw[df_raw[\"id\"].isin(df_train_simply[\"id\"])]\n",
    "# df_val = df_raw[df_raw[\"id\"].isin(df_val_simply[\"id\"])]\n",
    "# df_test = df_raw[df_raw[\"id\"].isin(df_test_simply[\"id\"])]\n",
    "df_train = pd.read_csv(train_path)\n",
    "df_val = pd.read_csv(val_path)\n",
    "df_test = pd.read_csv(test_path)\n"
   ]
  },
  {
   "cell_type": "code",
   "execution_count": 7,
   "metadata": {},
   "outputs": [
    {
     "data": {
      "text/plain": [
       "((155501, 37), (19440, 37), (19470, 37))"
      ]
     },
     "execution_count": 7,
     "metadata": {},
     "output_type": "execute_result"
    }
   ],
   "source": [
    "df_train.shape, df_val.shape, df_test.shape"
   ]
  },
  {
   "cell_type": "code",
   "execution_count": 8,
   "metadata": {},
   "outputs": [
    {
     "data": {
      "text/plain": [
       "(set(), set(), set(), set())"
      ]
     },
     "execution_count": 8,
     "metadata": {},
     "output_type": "execute_result"
    }
   ],
   "source": [
    "trainers = set(df_train.rater_id.unique())\n",
    "valers = set(df_val.rater_id.unique())\n",
    "testers = set(df_test.rater_id.unique())\n",
    "(valers - trainers), (testers - trainers), (trainers - valers), (trainers - testers)"
   ]
  },
  {
   "cell_type": "code",
   "execution_count": 9,
   "metadata": {},
   "outputs": [],
   "source": [
    "# df_train_v2 = df_train[df_train.rater_id != 68]\n",
    "# # df_train[df_train.id == \"efcldxm\"]\n",
    "# df_train_v2.shape, df_train.shape"
   ]
  },
  {
   "cell_type": "code",
   "execution_count": 14,
   "metadata": {},
   "outputs": [],
   "source": [
    "def analyze_raters_split(df):\n",
    "    rater_counter = Counter(df.rater_id.tolist())\n",
    "    top_5 = rater_counter.most_common(5)\n",
    "    worst_5 = rater_counter.most_common()[-5:]\n",
    "    print(len(rater_counter))\n",
    "    return top_5, worst_5    "
   ]
  },
  {
   "cell_type": "code",
   "execution_count": 15,
   "metadata": {},
   "outputs": [],
   "source": [
    "def check_duplicates(df1, df2, column):\n",
    "    duplicates = df1[df1[column].isin(df2[column])][column]\n",
    "    dup_num = duplicates.shape[0]\n",
    "    unique_dup = duplicates.unique().shape[0]\n",
    "    unique1 = df1[column].unique().shape[0]\n",
    "    unique2 = df2[column].unique().shape[0]\n",
    "    print(\"duplicates\", dup_num)\n",
    "    print(\"unique_dup\", unique_dup)\n",
    "    print(\"unique1\", unique1-unique_dup)\n",
    "    print(\"unique2\", unique2-unique_dup)    "
   ]
  },
  {
   "cell_type": "code",
   "execution_count": 16,
   "metadata": {},
   "outputs": [],
   "source": [
    "# print(\"train-val\")\n",
    "# check_duplicates(df_train_v2, df_val, \"rater_id\")\n",
    "# check_duplicates(df_train_v2, df_val, \"id\")\n",
    "# print(\"train-test\")\n",
    "# check_duplicates(df_train_v2, df_test, \"rater_id\")\n",
    "# check_duplicates(df_train_v2, df_test, \"id\")\n",
    "# print(\"val-test\")\n",
    "# check_duplicates(df_val, df_test, \"rater_id\")\n",
    "# check_duplicates(df_val, df_test, \"id\")\n"
   ]
  },
  {
   "cell_type": "code",
   "execution_count": 17,
   "metadata": {},
   "outputs": [
    {
     "name": "stdout",
     "output_type": "stream",
     "text": [
      "train\n",
      "81\n",
      "([(4, 7899), (61, 7434), (37, 6879), (2, 4355), (62, 4125)], [(69, 63), (45, 51), (53, 45), (0, 31), (47, 3)])\n",
      "val\n",
      "81\n",
      "([(4, 948), (61, 922), (37, 820), (2, 532), (52, 530)], [(45, 7), (53, 6), (80, 6), (0, 2), (47, 2)])\n",
      "test\n",
      "81\n",
      "([(4, 1010), (61, 919), (37, 878), (2, 553), (52, 544)], [(80, 8), (65, 8), (0, 7), (53, 6), (47, 2)])\n"
     ]
    }
   ],
   "source": [
    "print(\"train\")\n",
    "print(analyze_raters_split(df_train))\n",
    "print(\"val\")\n",
    "print(analyze_raters_split(df_val))\n",
    "print(\"test\")\n",
    "print(analyze_raters_split(df_test))\n"
   ]
  },
  {
   "cell_type": "code",
   "execution_count": 23,
   "metadata": {},
   "outputs": [],
   "source": [
    "# df_train_v2.to_csv(train_path_raw, index=False)\n",
    "# df_val.to_csv(val_path_raw, index=False)\n",
    "# df_test.to_csv(test_path_raw, index=False)"
   ]
  },
  {
   "cell_type": "code",
   "execution_count": 24,
   "metadata": {},
   "outputs": [],
   "source": [
    "FINAL_COLUMNS = [\"text\", \"rater_id\", \"emotions\"]\n",
    "EMOTIONS = ['admiration','amusement', 'anger', 'annoyance', 'approval', 'caring', 'confusion',\n",
    "       'curiosity', 'desire', 'disappointment', 'disapproval', 'disgust',\n",
    "       'embarrassment', 'excitement', 'fear', 'gratitude', 'grief', 'joy',\n",
    "       'love', 'nervousness', 'optimism', 'pride', 'realization', 'relief',\n",
    "       'remorse', 'sadness', 'surprise', 'neutral']"
   ]
  },
  {
   "cell_type": "code",
   "execution_count": 25,
   "metadata": {},
   "outputs": [],
   "source": [
    "# def extract_emotions(sample):\n",
    "#     emo_cols = sample[EMOTIONS]\n",
    "#     mask = emo_cols.to_numpy(dtype=bool)\n",
    "#     emos = \" \".join(np.array(EMOTIONS)[mask].tolist())\n",
    "#     return emos\n",
    "\n",
    "# def change_row(sample):\n",
    "#     id = sample[\"rater_id\"]\n",
    "#     text = sample[\"text\"]\n",
    "#     emotions = extract_emotions(sample)"
   ]
  },
  {
   "cell_type": "code",
   "execution_count": 26,
   "metadata": {},
   "outputs": [],
   "source": [
    "# sample = df_train_v2.iloc[21]\n",
    "# out = extract_emotions(sample)\n",
    "# out"
   ]
  },
  {
   "cell_type": "code",
   "execution_count": 31,
   "metadata": {},
   "outputs": [
    {
     "data": {
      "text/plain": [
       "'somethin something else'"
      ]
     },
     "execution_count": 31,
     "metadata": {},
     "output_type": "execute_result"
    }
   ],
   "source": []
  }
 ],
 "metadata": {
  "kernelspec": {
   "display_name": "venv",
   "language": "python",
   "name": "python3"
  },
  "language_info": {
   "codemirror_mode": {
    "name": "ipython",
    "version": 3
   },
   "file_extension": ".py",
   "mimetype": "text/x-python",
   "name": "python",
   "nbconvert_exporter": "python",
   "pygments_lexer": "ipython3",
   "version": "3.10.13"
  },
  "orig_nbformat": 4
 },
 "nbformat": 4,
 "nbformat_minor": 2
}
